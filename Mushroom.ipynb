{
 "cells": [
  {
   "cell_type": "code",
   "execution_count": 1,
   "id": "5943dc8f-c942-4edd-b210-b8a1b0e72c88",
   "metadata": {},
   "outputs": [],
   "source": [
    "options(warn=-1)"
   ]
  },
  {
   "cell_type": "code",
   "execution_count": 2,
   "id": "7dd1cb40-6175-48c6-8f28-f758ec4b0773",
   "metadata": {},
   "outputs": [],
   "source": [
    "# Đọc dữ liệu và đưa vào dataframe data.\n",
    "data <- read.csv('Dataset/mushroom.csv', stringsAsFactors = TRUE)\n",
    "data <- data[,-1]"
   ]
  },
  {
   "cell_type": "code",
   "execution_count": 3,
   "id": "a6a94ab9-30df-4eba-aab1-492afb479c73",
   "metadata": {},
   "outputs": [
    {
     "data": {
      "text/html": [
       "<table class=\"dataframe\">\n",
       "<caption>A data.frame: 6 × 23</caption>\n",
       "<thead>\n",
       "\t<tr><th></th><th scope=col>Class</th><th scope=col>cap.shape</th><th scope=col>cap.surface</th><th scope=col>cap.color</th><th scope=col>bruises</th><th scope=col>odor</th><th scope=col>gill.attachment</th><th scope=col>gill.spacing</th><th scope=col>gill.size</th><th scope=col>gill.color</th><th scope=col>⋯</th><th scope=col>stalk.surface.below.ring</th><th scope=col>stalk.color.above.ring</th><th scope=col>stalk.color.below.ring</th><th scope=col>veil.type</th><th scope=col>veil.color</th><th scope=col>ring.number</th><th scope=col>ring.type</th><th scope=col>print</th><th scope=col>population</th><th scope=col>habitat</th></tr>\n",
       "\t<tr><th></th><th scope=col>&lt;fct&gt;</th><th scope=col>&lt;fct&gt;</th><th scope=col>&lt;fct&gt;</th><th scope=col>&lt;fct&gt;</th><th scope=col>&lt;fct&gt;</th><th scope=col>&lt;fct&gt;</th><th scope=col>&lt;fct&gt;</th><th scope=col>&lt;fct&gt;</th><th scope=col>&lt;fct&gt;</th><th scope=col>&lt;fct&gt;</th><th scope=col>⋯</th><th scope=col>&lt;fct&gt;</th><th scope=col>&lt;fct&gt;</th><th scope=col>&lt;fct&gt;</th><th scope=col>&lt;fct&gt;</th><th scope=col>&lt;fct&gt;</th><th scope=col>&lt;fct&gt;</th><th scope=col>&lt;fct&gt;</th><th scope=col>&lt;fct&gt;</th><th scope=col>&lt;fct&gt;</th><th scope=col>&lt;fct&gt;</th></tr>\n",
       "</thead>\n",
       "<tbody>\n",
       "\t<tr><th scope=row>1</th><td>Poisonous</td><td>x</td><td>s</td><td>n</td><td>t</td><td>None   </td><td>f</td><td>c</td><td>n</td><td>k</td><td>⋯</td><td>s</td><td>w</td><td>w</td><td>p</td><td>w</td><td>o</td><td>p</td><td>Buff     </td><td>s</td><td>u</td></tr>\n",
       "\t<tr><th scope=row>2</th><td>Edible   </td><td>x</td><td>s</td><td>y</td><td>t</td><td>Almonds</td><td>f</td><td>c</td><td>b</td><td>k</td><td>⋯</td><td>s</td><td>w</td><td>w</td><td>p</td><td>w</td><td>o</td><td>p</td><td>Chocolate</td><td>n</td><td>g</td></tr>\n",
       "\t<tr><th scope=row>3</th><td>Edible   </td><td>b</td><td>s</td><td>w</td><td>t</td><td>Fishy  </td><td>f</td><td>c</td><td>b</td><td>n</td><td>⋯</td><td>s</td><td>w</td><td>w</td><td>p</td><td>w</td><td>o</td><td>p</td><td>Chocolate</td><td>n</td><td>m</td></tr>\n",
       "\t<tr><th scope=row>4</th><td>Poisonous</td><td>x</td><td>y</td><td>w</td><td>t</td><td>None   </td><td>f</td><td>c</td><td>n</td><td>n</td><td>⋯</td><td>s</td><td>w</td><td>w</td><td>p</td><td>w</td><td>o</td><td>p</td><td>Buff     </td><td>s</td><td>u</td></tr>\n",
       "\t<tr><th scope=row>5</th><td>Edible   </td><td>x</td><td>s</td><td>g</td><td>f</td><td>Musty  </td><td>f</td><td>w</td><td>b</td><td>k</td><td>⋯</td><td>s</td><td>w</td><td>w</td><td>p</td><td>w</td><td>o</td><td>e</td><td>Chocolate</td><td>a</td><td>g</td></tr>\n",
       "\t<tr><th scope=row>6</th><td>Edible   </td><td>x</td><td>y</td><td>y</td><td>t</td><td>Almonds</td><td>f</td><td>c</td><td>b</td><td>n</td><td>⋯</td><td>s</td><td>w</td><td>w</td><td>p</td><td>w</td><td>o</td><td>p</td><td>Buff     </td><td>n</td><td>g</td></tr>\n",
       "</tbody>\n",
       "</table>\n"
      ],
      "text/latex": [
       "A data.frame: 6 × 23\n",
       "\\begin{tabular}{r|lllllllllllllllllllll}\n",
       "  & Class & cap.shape & cap.surface & cap.color & bruises & odor & gill.attachment & gill.spacing & gill.size & gill.color & ⋯ & stalk.surface.below.ring & stalk.color.above.ring & stalk.color.below.ring & veil.type & veil.color & ring.number & ring.type & print & population & habitat\\\\\n",
       "  & <fct> & <fct> & <fct> & <fct> & <fct> & <fct> & <fct> & <fct> & <fct> & <fct> & ⋯ & <fct> & <fct> & <fct> & <fct> & <fct> & <fct> & <fct> & <fct> & <fct> & <fct>\\\\\n",
       "\\hline\n",
       "\t1 & Poisonous & x & s & n & t & None    & f & c & n & k & ⋯ & s & w & w & p & w & o & p & Buff      & s & u\\\\\n",
       "\t2 & Edible    & x & s & y & t & Almonds & f & c & b & k & ⋯ & s & w & w & p & w & o & p & Chocolate & n & g\\\\\n",
       "\t3 & Edible    & b & s & w & t & Fishy   & f & c & b & n & ⋯ & s & w & w & p & w & o & p & Chocolate & n & m\\\\\n",
       "\t4 & Poisonous & x & y & w & t & None    & f & c & n & n & ⋯ & s & w & w & p & w & o & p & Buff      & s & u\\\\\n",
       "\t5 & Edible    & x & s & g & f & Musty   & f & w & b & k & ⋯ & s & w & w & p & w & o & e & Chocolate & a & g\\\\\n",
       "\t6 & Edible    & x & y & y & t & Almonds & f & c & b & n & ⋯ & s & w & w & p & w & o & p & Buff      & n & g\\\\\n",
       "\\end{tabular}\n"
      ],
      "text/markdown": [
       "\n",
       "A data.frame: 6 × 23\n",
       "\n",
       "| <!--/--> | Class &lt;fct&gt; | cap.shape &lt;fct&gt; | cap.surface &lt;fct&gt; | cap.color &lt;fct&gt; | bruises &lt;fct&gt; | odor &lt;fct&gt; | gill.attachment &lt;fct&gt; | gill.spacing &lt;fct&gt; | gill.size &lt;fct&gt; | gill.color &lt;fct&gt; | ⋯ ⋯ | stalk.surface.below.ring &lt;fct&gt; | stalk.color.above.ring &lt;fct&gt; | stalk.color.below.ring &lt;fct&gt; | veil.type &lt;fct&gt; | veil.color &lt;fct&gt; | ring.number &lt;fct&gt; | ring.type &lt;fct&gt; | print &lt;fct&gt; | population &lt;fct&gt; | habitat &lt;fct&gt; |\n",
       "|---|---|---|---|---|---|---|---|---|---|---|---|---|---|---|---|---|---|---|---|---|---|\n",
       "| 1 | Poisonous | x | s | n | t | None    | f | c | n | k | ⋯ | s | w | w | p | w | o | p | Buff      | s | u |\n",
       "| 2 | Edible    | x | s | y | t | Almonds | f | c | b | k | ⋯ | s | w | w | p | w | o | p | Chocolate | n | g |\n",
       "| 3 | Edible    | b | s | w | t | Fishy   | f | c | b | n | ⋯ | s | w | w | p | w | o | p | Chocolate | n | m |\n",
       "| 4 | Poisonous | x | y | w | t | None    | f | c | n | n | ⋯ | s | w | w | p | w | o | p | Buff      | s | u |\n",
       "| 5 | Edible    | x | s | g | f | Musty   | f | w | b | k | ⋯ | s | w | w | p | w | o | e | Chocolate | a | g |\n",
       "| 6 | Edible    | x | y | y | t | Almonds | f | c | b | n | ⋯ | s | w | w | p | w | o | p | Buff      | n | g |\n",
       "\n"
      ],
      "text/plain": [
       "  Class     cap.shape cap.surface cap.color bruises odor    gill.attachment\n",
       "1 Poisonous x         s           n         t       None    f              \n",
       "2 Edible    x         s           y         t       Almonds f              \n",
       "3 Edible    b         s           w         t       Fishy   f              \n",
       "4 Poisonous x         y           w         t       None    f              \n",
       "5 Edible    x         s           g         f       Musty   f              \n",
       "6 Edible    x         y           y         t       Almonds f              \n",
       "  gill.spacing gill.size gill.color ⋯ stalk.surface.below.ring\n",
       "1 c            n         k          ⋯ s                       \n",
       "2 c            b         k          ⋯ s                       \n",
       "3 c            b         n          ⋯ s                       \n",
       "4 c            n         n          ⋯ s                       \n",
       "5 w            b         k          ⋯ s                       \n",
       "6 c            b         n          ⋯ s                       \n",
       "  stalk.color.above.ring stalk.color.below.ring veil.type veil.color\n",
       "1 w                      w                      p         w         \n",
       "2 w                      w                      p         w         \n",
       "3 w                      w                      p         w         \n",
       "4 w                      w                      p         w         \n",
       "5 w                      w                      p         w         \n",
       "6 w                      w                      p         w         \n",
       "  ring.number ring.type print     population habitat\n",
       "1 o           p         Buff      s          u      \n",
       "2 o           p         Chocolate n          g      \n",
       "3 o           p         Chocolate n          m      \n",
       "4 o           p         Buff      s          u      \n",
       "5 o           e         Chocolate a          g      \n",
       "6 o           p         Buff      n          g      "
      ]
     },
     "metadata": {},
     "output_type": "display_data"
    }
   ],
   "source": [
    "# In thông tin dữ liệu: head(), số dòng, số cột, summary\n",
    "head(data)"
   ]
  },
  {
   "cell_type": "code",
   "execution_count": 4,
   "id": "a07f5d77-b55f-46c3-b50b-a0cbbade3f8b",
   "metadata": {},
   "outputs": [
    {
     "data": {
      "text/html": [
       "<table class=\"dataframe\">\n",
       "<caption>A data.frame: 6 × 23</caption>\n",
       "<thead>\n",
       "\t<tr><th></th><th scope=col>Class</th><th scope=col>cap.shape</th><th scope=col>cap.surface</th><th scope=col>cap.color</th><th scope=col>bruises</th><th scope=col>odor</th><th scope=col>gill.attachment</th><th scope=col>gill.spacing</th><th scope=col>gill.size</th><th scope=col>gill.color</th><th scope=col>⋯</th><th scope=col>stalk.surface.below.ring</th><th scope=col>stalk.color.above.ring</th><th scope=col>stalk.color.below.ring</th><th scope=col>veil.type</th><th scope=col>veil.color</th><th scope=col>ring.number</th><th scope=col>ring.type</th><th scope=col>print</th><th scope=col>population</th><th scope=col>habitat</th></tr>\n",
       "\t<tr><th></th><th scope=col>&lt;fct&gt;</th><th scope=col>&lt;fct&gt;</th><th scope=col>&lt;fct&gt;</th><th scope=col>&lt;fct&gt;</th><th scope=col>&lt;fct&gt;</th><th scope=col>&lt;fct&gt;</th><th scope=col>&lt;fct&gt;</th><th scope=col>&lt;fct&gt;</th><th scope=col>&lt;fct&gt;</th><th scope=col>&lt;fct&gt;</th><th scope=col>⋯</th><th scope=col>&lt;fct&gt;</th><th scope=col>&lt;fct&gt;</th><th scope=col>&lt;fct&gt;</th><th scope=col>&lt;fct&gt;</th><th scope=col>&lt;fct&gt;</th><th scope=col>&lt;fct&gt;</th><th scope=col>&lt;fct&gt;</th><th scope=col>&lt;fct&gt;</th><th scope=col>&lt;fct&gt;</th><th scope=col>&lt;fct&gt;</th></tr>\n",
       "</thead>\n",
       "<tbody>\n",
       "\t<tr><th scope=row>8119</th><td>Poisonous</td><td>k</td><td>y</td><td>n</td><td>f</td><td>Creosote</td><td>f</td><td>c</td><td>n</td><td>b</td><td>⋯</td><td>s</td><td>p</td><td>w</td><td>p</td><td>w</td><td>o</td><td>e</td><td>White</td><td>v</td><td>d</td></tr>\n",
       "\t<tr><th scope=row>8120</th><td>Edible   </td><td>k</td><td>s</td><td>n</td><td>f</td><td>Musty   </td><td>a</td><td>c</td><td>b</td><td>y</td><td>⋯</td><td>s</td><td>o</td><td>o</td><td>p</td><td>o</td><td>o</td><td>p</td><td>Black</td><td>c</td><td>l</td></tr>\n",
       "\t<tr><th scope=row>8121</th><td>Edible   </td><td>x</td><td>s</td><td>n</td><td>f</td><td>Musty   </td><td>a</td><td>c</td><td>b</td><td>y</td><td>⋯</td><td>s</td><td>o</td><td>o</td><td>p</td><td>n</td><td>o</td><td>p</td><td>Black</td><td>v</td><td>l</td></tr>\n",
       "\t<tr><th scope=row>8122</th><td>Edible   </td><td>f</td><td>s</td><td>n</td><td>f</td><td>Musty   </td><td>a</td><td>c</td><td>b</td><td>n</td><td>⋯</td><td>s</td><td>o</td><td>o</td><td>p</td><td>o</td><td>o</td><td>p</td><td>Black</td><td>c</td><td>l</td></tr>\n",
       "\t<tr><th scope=row>8123</th><td>Poisonous</td><td>k</td><td>y</td><td>n</td><td>f</td><td>Spicy   </td><td>f</td><td>c</td><td>n</td><td>b</td><td>⋯</td><td>k</td><td>w</td><td>w</td><td>p</td><td>w</td><td>o</td><td>e</td><td>White</td><td>v</td><td>l</td></tr>\n",
       "\t<tr><th scope=row>8124</th><td>Edible   </td><td>x</td><td>s</td><td>n</td><td>f</td><td>Musty   </td><td>a</td><td>c</td><td>b</td><td>y</td><td>⋯</td><td>s</td><td>o</td><td>o</td><td>p</td><td>o</td><td>o</td><td>p</td><td>Green</td><td>c</td><td>l</td></tr>\n",
       "</tbody>\n",
       "</table>\n"
      ],
      "text/latex": [
       "A data.frame: 6 × 23\n",
       "\\begin{tabular}{r|lllllllllllllllllllll}\n",
       "  & Class & cap.shape & cap.surface & cap.color & bruises & odor & gill.attachment & gill.spacing & gill.size & gill.color & ⋯ & stalk.surface.below.ring & stalk.color.above.ring & stalk.color.below.ring & veil.type & veil.color & ring.number & ring.type & print & population & habitat\\\\\n",
       "  & <fct> & <fct> & <fct> & <fct> & <fct> & <fct> & <fct> & <fct> & <fct> & <fct> & ⋯ & <fct> & <fct> & <fct> & <fct> & <fct> & <fct> & <fct> & <fct> & <fct> & <fct>\\\\\n",
       "\\hline\n",
       "\t8119 & Poisonous & k & y & n & f & Creosote & f & c & n & b & ⋯ & s & p & w & p & w & o & e & White & v & d\\\\\n",
       "\t8120 & Edible    & k & s & n & f & Musty    & a & c & b & y & ⋯ & s & o & o & p & o & o & p & Black & c & l\\\\\n",
       "\t8121 & Edible    & x & s & n & f & Musty    & a & c & b & y & ⋯ & s & o & o & p & n & o & p & Black & v & l\\\\\n",
       "\t8122 & Edible    & f & s & n & f & Musty    & a & c & b & n & ⋯ & s & o & o & p & o & o & p & Black & c & l\\\\\n",
       "\t8123 & Poisonous & k & y & n & f & Spicy    & f & c & n & b & ⋯ & k & w & w & p & w & o & e & White & v & l\\\\\n",
       "\t8124 & Edible    & x & s & n & f & Musty    & a & c & b & y & ⋯ & s & o & o & p & o & o & p & Green & c & l\\\\\n",
       "\\end{tabular}\n"
      ],
      "text/markdown": [
       "\n",
       "A data.frame: 6 × 23\n",
       "\n",
       "| <!--/--> | Class &lt;fct&gt; | cap.shape &lt;fct&gt; | cap.surface &lt;fct&gt; | cap.color &lt;fct&gt; | bruises &lt;fct&gt; | odor &lt;fct&gt; | gill.attachment &lt;fct&gt; | gill.spacing &lt;fct&gt; | gill.size &lt;fct&gt; | gill.color &lt;fct&gt; | ⋯ ⋯ | stalk.surface.below.ring &lt;fct&gt; | stalk.color.above.ring &lt;fct&gt; | stalk.color.below.ring &lt;fct&gt; | veil.type &lt;fct&gt; | veil.color &lt;fct&gt; | ring.number &lt;fct&gt; | ring.type &lt;fct&gt; | print &lt;fct&gt; | population &lt;fct&gt; | habitat &lt;fct&gt; |\n",
       "|---|---|---|---|---|---|---|---|---|---|---|---|---|---|---|---|---|---|---|---|---|---|\n",
       "| 8119 | Poisonous | k | y | n | f | Creosote | f | c | n | b | ⋯ | s | p | w | p | w | o | e | White | v | d |\n",
       "| 8120 | Edible    | k | s | n | f | Musty    | a | c | b | y | ⋯ | s | o | o | p | o | o | p | Black | c | l |\n",
       "| 8121 | Edible    | x | s | n | f | Musty    | a | c | b | y | ⋯ | s | o | o | p | n | o | p | Black | v | l |\n",
       "| 8122 | Edible    | f | s | n | f | Musty    | a | c | b | n | ⋯ | s | o | o | p | o | o | p | Black | c | l |\n",
       "| 8123 | Poisonous | k | y | n | f | Spicy    | f | c | n | b | ⋯ | k | w | w | p | w | o | e | White | v | l |\n",
       "| 8124 | Edible    | x | s | n | f | Musty    | a | c | b | y | ⋯ | s | o | o | p | o | o | p | Green | c | l |\n",
       "\n"
      ],
      "text/plain": [
       "     Class     cap.shape cap.surface cap.color bruises odor     gill.attachment\n",
       "8119 Poisonous k         y           n         f       Creosote f              \n",
       "8120 Edible    k         s           n         f       Musty    a              \n",
       "8121 Edible    x         s           n         f       Musty    a              \n",
       "8122 Edible    f         s           n         f       Musty    a              \n",
       "8123 Poisonous k         y           n         f       Spicy    f              \n",
       "8124 Edible    x         s           n         f       Musty    a              \n",
       "     gill.spacing gill.size gill.color ⋯ stalk.surface.below.ring\n",
       "8119 c            n         b          ⋯ s                       \n",
       "8120 c            b         y          ⋯ s                       \n",
       "8121 c            b         y          ⋯ s                       \n",
       "8122 c            b         n          ⋯ s                       \n",
       "8123 c            n         b          ⋯ k                       \n",
       "8124 c            b         y          ⋯ s                       \n",
       "     stalk.color.above.ring stalk.color.below.ring veil.type veil.color\n",
       "8119 p                      w                      p         w         \n",
       "8120 o                      o                      p         o         \n",
       "8121 o                      o                      p         n         \n",
       "8122 o                      o                      p         o         \n",
       "8123 w                      w                      p         w         \n",
       "8124 o                      o                      p         o         \n",
       "     ring.number ring.type print population habitat\n",
       "8119 o           e         White v          d      \n",
       "8120 o           p         Black c          l      \n",
       "8121 o           p         Black v          l      \n",
       "8122 o           p         Black c          l      \n",
       "8123 o           e         White v          l      \n",
       "8124 o           p         Green c          l      "
      ]
     },
     "metadata": {},
     "output_type": "display_data"
    }
   ],
   "source": [
    "tail(data)"
   ]
  },
  {
   "cell_type": "code",
   "execution_count": 5,
   "id": "014f6da5-1031-4c68-9b03-373cb0d94465",
   "metadata": {},
   "outputs": [
    {
     "name": "stdout",
     "output_type": "stream",
     "text": [
      "'data.frame':\t8124 obs. of  23 variables:\n",
      " $ Class                   : Factor w/ 2 levels \"Edible\",\"Poisonous\": 2 1 1 2 1 1 1 1 2 1 ...\n",
      " $ cap.shape               : Factor w/ 6 levels \"b\",\"c\",\"f\",\"k\",..: 6 6 1 6 6 6 1 1 6 1 ...\n",
      " $ cap.surface             : Factor w/ 4 levels \"f\",\"g\",\"s\",\"y\": 3 3 3 4 3 4 3 4 4 3 ...\n",
      " $ cap.color               : Factor w/ 10 levels \"b\",\"c\",\"e\",\"g\",..: 5 10 9 9 4 10 9 9 9 10 ...\n",
      " $ bruises                 : Factor w/ 2 levels \"f\",\"t\": 2 2 2 2 1 2 2 2 2 2 ...\n",
      " $ odor                    : Factor w/ 9 levels \"Almonds\",\"Anise\",..: 7 1 4 7 6 1 1 4 7 1 ...\n",
      " $ gill.attachment         : Factor w/ 2 levels \"a\",\"f\": 2 2 2 2 2 2 2 2 2 2 ...\n",
      " $ gill.spacing            : Factor w/ 2 levels \"c\",\"w\": 1 1 1 1 2 1 1 1 1 1 ...\n",
      " $ gill.size               : Factor w/ 2 levels \"b\",\"n\": 2 1 1 2 1 1 1 1 2 1 ...\n",
      " $ gill.color              : Factor w/ 12 levels \"b\",\"e\",\"g\",\"h\",..: 5 5 6 6 5 6 3 6 8 3 ...\n",
      " $ stalk.shape             : Factor w/ 2 levels \"e\",\"t\": 1 1 1 1 2 1 1 1 1 1 ...\n",
      " $ stalk.root              : Factor w/ 5 levels \"?\",\"b\",\"c\",\"e\",..: 4 3 3 4 4 3 3 3 4 3 ...\n",
      " $ stalk.surface.above.ring: Factor w/ 4 levels \"f\",\"k\",\"s\",\"y\": 3 3 3 3 3 3 3 3 3 3 ...\n",
      " $ stalk.surface.below.ring: Factor w/ 4 levels \"f\",\"k\",\"s\",\"y\": 3 3 3 3 3 3 3 3 3 3 ...\n",
      " $ stalk.color.above.ring  : Factor w/ 9 levels \"b\",\"c\",\"e\",\"g\",..: 8 8 8 8 8 8 8 8 8 8 ...\n",
      " $ stalk.color.below.ring  : Factor w/ 9 levels \"b\",\"c\",\"e\",\"g\",..: 8 8 8 8 8 8 8 8 8 8 ...\n",
      " $ veil.type               : Factor w/ 1 level \"p\": 1 1 1 1 1 1 1 1 1 1 ...\n",
      " $ veil.color              : Factor w/ 4 levels \"n\",\"o\",\"w\",\"y\": 3 3 3 3 3 3 3 3 3 3 ...\n",
      " $ ring.number             : Factor w/ 3 levels \"n\",\"o\",\"t\": 2 2 2 2 2 2 2 2 2 2 ...\n",
      " $ ring.type               : Factor w/ 5 levels \"e\",\"f\",\"l\",\"n\",..: 5 5 5 5 1 5 5 5 5 5 ...\n",
      " $ print                   : Factor w/ 9 levels \"Black\",\"Brown\",..: 3 4 4 3 4 3 3 4 3 3 ...\n",
      " $ population              : Factor w/ 6 levels \"a\",\"c\",\"n\",\"s\",..: 4 3 3 4 1 3 3 4 5 4 ...\n",
      " $ habitat                 : Factor w/ 7 levels \"d\",\"g\",\"l\",\"m\",..: 6 2 4 6 2 2 4 4 2 4 ...\n"
     ]
    }
   ],
   "source": [
    "str(data)"
   ]
  },
  {
   "cell_type": "code",
   "execution_count": 6,
   "id": "955c021a-cc03-47f4-b576-8a98967e4469",
   "metadata": {},
   "outputs": [],
   "source": [
    "# data$Class <- as.factor(data$Class)"
   ]
  },
  {
   "cell_type": "code",
   "execution_count": 7,
   "id": "1719fbc4-5d06-4b9d-9f78-6e96267c64e6",
   "metadata": {},
   "outputs": [
    {
     "data": {
      "text/plain": [
       "       Class      cap.shape cap.surface   cap.color    bruises        odor     \n",
       " Edible   :4208   b: 452    f:2320      n      :2284   f:4748   Musty   :3528  \n",
       " Poisonous:3916   c:   4    g:   4      g      :1840   t:3376   Creosote:2160  \n",
       "                  f:3152    s:2556      e      :1500            Pungent : 576  \n",
       "                  k: 828    y:3244      y      :1072            Spicy   : 576  \n",
       "                  s:  32                w      :1040            Almonds : 400  \n",
       "                  x:3656                b      : 168            Fishy   : 400  \n",
       "                                        (Other): 220            (Other) : 484  \n",
       " gill.attachment gill.spacing gill.size   gill.color   stalk.shape stalk.root\n",
       " a: 210          c:6812       b:5612    b      :1728   e:3516      ?:2480    \n",
       " f:7914          w:1312       n:2512    p      :1492   t:4608      b:3776    \n",
       "                                        w      :1202               c: 556    \n",
       "                                        n      :1048               e:1120    \n",
       "                                        g      : 752               r: 192    \n",
       "                                        h      : 732                         \n",
       "                                        (Other):1170                         \n",
       " stalk.surface.above.ring stalk.surface.below.ring stalk.color.above.ring\n",
       " f: 552                   f: 600                   w      :4464          \n",
       " k:2372                   k:2304                   p      :1872          \n",
       " s:5176                   s:4936                   g      : 576          \n",
       " y:  24                   y: 284                   n      : 448          \n",
       "                                                   b      : 432          \n",
       "                                                   o      : 192          \n",
       "                                                   (Other): 140          \n",
       " stalk.color.below.ring veil.type veil.color ring.number ring.type\n",
       " w      :4384           p:8124    n:  96     n:  36      e:2776   \n",
       " p      :1872                     o:  96     o:7488      f:  48   \n",
       " g      : 576                     w:7924     t: 600      l:1296   \n",
       " n      : 512                     y:   8                 n:  36   \n",
       " b      : 432                                            p:3968   \n",
       " o      : 192                                                     \n",
       " (Other): 156                                                     \n",
       "       print      population habitat \n",
       " White    :2388   a: 384     d:3148  \n",
       " Chocolate:1968   c: 340     g:2148  \n",
       " Buff     :1872   n: 400     l: 832  \n",
       " Brown    :1632   s:1248     m: 292  \n",
       " Orange   :  72   v:4040     p:1144  \n",
       " Black    :  48   y:1712     u: 368  \n",
       " (Other)  : 144              w: 192  "
      ]
     },
     "metadata": {},
     "output_type": "display_data"
    }
   ],
   "source": [
    "summary(data)"
   ]
  },
  {
   "cell_type": "code",
   "execution_count": 8,
   "id": "7664bf65-74ea-4228-b7b4-8a5b9830b4f7",
   "metadata": {},
   "outputs": [
    {
     "name": "stdout",
     "output_type": "stream",
     "text": [
      "[1] \"cols: 23\"\n",
      "[1] \"rows: 8124\"\n"
     ]
    }
   ],
   "source": [
    "print(paste('cols:', ncol(data)))\n",
    "print(paste('rows:', nrow(data)))"
   ]
  },
  {
   "cell_type": "code",
   "execution_count": 9,
   "id": "ba24138f-fcc8-40fd-828b-aca8dc653a90",
   "metadata": {},
   "outputs": [
    {
     "data": {
      "text/html": [
       "FALSE"
      ],
      "text/latex": [
       "FALSE"
      ],
      "text/markdown": [
       "FALSE"
      ],
      "text/plain": [
       "[1] FALSE"
      ]
     },
     "metadata": {},
     "output_type": "display_data"
    }
   ],
   "source": [
    "any(is.na(data))"
   ]
  },
  {
   "cell_type": "markdown",
   "id": "bb626386-cd8c-4182-a958-005494f1fecb",
   "metadata": {},
   "source": [
    "- Nhận xét: dữ liệu không có giá trị null"
   ]
  },
  {
   "cell_type": "code",
   "execution_count": 10,
   "id": "54e83ad2-2d96-4968-9ff5-ec18a377e575",
   "metadata": {},
   "outputs": [
    {
     "name": "stderr",
     "output_type": "stream",
     "text": [
      "── \u001b[1mAttaching packages\u001b[22m ─────────────────────────────────────────────────────────────────────────────── tidyverse 1.3.2 ──\n",
      "\u001b[32m✔\u001b[39m \u001b[34mggplot2\u001b[39m 3.4.0      \u001b[32m✔\u001b[39m \u001b[34mpurrr  \u001b[39m 0.3.5 \n",
      "\u001b[32m✔\u001b[39m \u001b[34mtibble \u001b[39m 3.1.8      \u001b[32m✔\u001b[39m \u001b[34mdplyr  \u001b[39m 1.0.10\n",
      "\u001b[32m✔\u001b[39m \u001b[34mtidyr  \u001b[39m 1.2.1      \u001b[32m✔\u001b[39m \u001b[34mstringr\u001b[39m 1.4.1 \n",
      "\u001b[32m✔\u001b[39m \u001b[34mreadr  \u001b[39m 2.1.3      \u001b[32m✔\u001b[39m \u001b[34mforcats\u001b[39m 0.5.2 \n",
      "── \u001b[1mConflicts\u001b[22m ────────────────────────────────────────────────────────────────────────────────── tidyverse_conflicts() ──\n",
      "\u001b[31m✖\u001b[39m \u001b[34mdplyr\u001b[39m::\u001b[32mfilter()\u001b[39m masks \u001b[34mstats\u001b[39m::filter()\n",
      "\u001b[31m✖\u001b[39m \u001b[34mdplyr\u001b[39m::\u001b[32mlag()\u001b[39m    masks \u001b[34mstats\u001b[39m::lag()\n"
     ]
    }
   ],
   "source": [
    "library(tidyverse)"
   ]
  },
  {
   "cell_type": "code",
   "execution_count": 11,
   "id": "395a7291-d413-4794-a52a-17c63b0a4a67",
   "metadata": {},
   "outputs": [
    {
     "data": {
      "text/html": [
       "<dl>\n",
       "</dl>\n"
      ],
      "text/latex": [
       "\\begin{description}\n",
       "\\end{description}\n"
      ],
      "text/markdown": [
       "\n",
       "\n"
      ],
      "text/plain": [
       "named list()"
      ]
     },
     "metadata": {},
     "output_type": "display_data"
    }
   ],
   "source": [
    "outliers <- function(dataframe){\n",
    "dataframe %>%\n",
    "     select_if(is.numeric) %>% \n",
    "      map(~ boxplot.stats(.x)$out) \n",
    "  \n",
    "\n",
    "  }\n",
    "outliers(data)"
   ]
  },
  {
   "cell_type": "markdown",
   "id": "2a999e68-98e7-4b50-8886-a8e6e0e298d2",
   "metadata": {},
   "source": [
    "- Nhận xét: dữ liệu không có giá trị outliers"
   ]
  },
  {
   "cell_type": "code",
   "execution_count": 12,
   "id": "b5aed6c1-d081-4937-8f7b-19a33c23abc6",
   "metadata": {},
   "outputs": [
    {
     "data": {
      "text/plain": [
       "\n",
       "   Edible Poisonous \n",
       "     4208      3916 "
      ]
     },
     "metadata": {},
     "output_type": "display_data"
    }
   ],
   "source": [
    "# check class bias\n",
    "table(data$Class)"
   ]
  },
  {
   "cell_type": "code",
   "execution_count": 13,
   "id": "c2a666c2-ca58-40b6-9b4a-cb525a8e3854",
   "metadata": {},
   "outputs": [
    {
     "name": "stdout",
     "output_type": "stream",
     "text": [
      "[1] \"Rows of training data and testing data:\"\n",
      "[1] 5686\n",
      "[1] 2438\n"
     ]
    }
   ],
   "source": [
    "# Tạo train:test từ dữ liệu data với tỉ lệ 70:30\n",
    "set.seed(42)\n",
    "trainingRowIndex <- sample(1:nrow(data), 0.7*nrow(data))\n",
    "trainingData <- data[trainingRowIndex,] # training data\n",
    "testData <- data[-trainingRowIndex, ] # test data\n",
    "print('Rows of training data and testing data:')\n",
    "print(nrow(trainingData))\n",
    "print(nrow(testData))"
   ]
  },
  {
   "cell_type": "code",
   "execution_count": 14,
   "id": "fa2eec8f-8ff8-4dcc-b9d5-49355f0895b9",
   "metadata": {},
   "outputs": [],
   "source": [
    "# Xây dựng model với train.\n",
    "mylogit <- glm(Class ~., data = subset(trainingData, select = c(-veil.type)), family = 'binomial')"
   ]
  },
  {
   "cell_type": "code",
   "execution_count": 15,
   "id": "4cf9eda2-ed15-4a3a-a773-b565beaa20f2",
   "metadata": {},
   "outputs": [
    {
     "data": {
      "text/plain": [
       "\n",
       "Call:\n",
       "glm(formula = Class ~ ., family = \"binomial\", data = subset(trainingData, \n",
       "    select = c(-veil.type)))\n",
       "\n",
       "Deviance Residuals: \n",
       "       Min          1Q      Median          3Q         Max  \n",
       "-2.409e-06  -2.409e-06  -2.409e-06   2.409e-06   2.409e-06  \n",
       "\n",
       "Coefficients: (10 not defined because of singularities)\n",
       "                            Estimate Std. Error z value Pr(>|z|)\n",
       "(Intercept)               -2.657e+01  3.719e+05       0        1\n",
       "cap.shapec                 2.096e-06  2.209e+05       0        1\n",
       "cap.shapef                 4.965e-08  2.825e+04       0        1\n",
       "cap.shapek                -1.415e-07  3.073e+04       0        1\n",
       "cap.shapes                 4.344e-08  9.565e+04       0        1\n",
       "cap.shapex                 3.920e-08  2.706e+04       0        1\n",
       "cap.surfaceg              -1.986e-07  2.730e+05       0        1\n",
       "cap.surfaces              -2.584e-09  1.610e+04       0        1\n",
       "cap.surfacey               3.940e-09  1.353e+04       0        1\n",
       "cap.colorc                 3.277e-08  9.475e+04       0        1\n",
       "cap.colore                 3.247e-08  4.354e+04       0        1\n",
       "cap.colorg                 3.342e-08  4.172e+04       0        1\n",
       "cap.colorn                 3.168e-08  4.260e+04       0        1\n",
       "cap.colorp                 7.839e-09  5.408e+04       0        1\n",
       "cap.colorr                 3.748e-08  1.436e+05       0        1\n",
       "cap.coloru                 3.893e-08  1.520e+05       0        1\n",
       "cap.colorw                 3.703e-08  4.210e+04       0        1\n",
       "cap.colory                 3.663e-08  4.470e+04       0        1\n",
       "bruisest                   2.657e+01  1.419e+05       0        1\n",
       "odorAnise                  2.657e+01  1.721e+05       0        1\n",
       "odorCreosote              -2.657e+01  4.276e+05       0        1\n",
       "odorFishy                  1.522e-09  3.007e+04       0        1\n",
       "odorFoul                   1.328e+02  6.636e+05       0        1\n",
       "odorMusty                 -7.970e+01  4.123e+05       0        1\n",
       "odorNone                  -5.313e+01  5.112e+05       0        1\n",
       "odorPungent               -2.657e+01  4.283e+05       0        1\n",
       "odorSpicy                 -2.657e+01  4.283e+05       0        1\n",
       "gill.attachmentf          -2.357e-07  1.528e+05       0        1\n",
       "gill.spacingw              1.226e-07  6.277e+04       0        1\n",
       "gill.sizen                -7.970e+01  3.849e+05       0        1\n",
       "gill.colore               -2.657e+01  2.551e+05       0        1\n",
       "gill.colorg               -2.657e+01  2.535e+05       0        1\n",
       "gill.colorh               -2.657e+01  2.530e+05       0        1\n",
       "gill.colork               -2.657e+01  2.537e+05       0        1\n",
       "gill.colorn               -2.657e+01  2.531e+05       0        1\n",
       "gill.coloro               -2.657e+01  2.626e+05       0        1\n",
       "gill.colorp               -2.657e+01  2.528e+05       0        1\n",
       "gill.colorr               -2.657e+01  2.745e+05       0        1\n",
       "gill.coloru               -2.657e+01  2.540e+05       0        1\n",
       "gill.colorw               -2.657e+01  2.522e+05       0        1\n",
       "gill.colory               -2.657e+01  2.602e+05       0        1\n",
       "stalk.shapet              -5.313e+01  2.502e+05       0        1\n",
       "stalk.rootb               -2.657e+01  1.626e+05       0        1\n",
       "stalk.rootc               -1.594e+02  7.763e+05       0        1\n",
       "stalk.roote                2.657e+01  1.500e+05       0        1\n",
       "stalk.rootr               -1.860e+02  6.699e+05       0        1\n",
       "stalk.surface.above.ringk -1.348e-08  3.188e+04       0        1\n",
       "stalk.surface.above.rings -1.161e-09  2.550e+04       0        1\n",
       "stalk.surface.above.ringy -8.932e-07  3.413e+05       0        1\n",
       "stalk.surface.below.ringk  1.369e-09  3.185e+04       0        1\n",
       "stalk.surface.below.rings  4.657e-10  2.548e+04       0        1\n",
       "stalk.surface.below.ringy  2.657e+01  2.079e+05       0        1\n",
       "stalk.color.above.ringc           NA         NA      NA       NA\n",
       "stalk.color.above.ringe    1.397e-09  6.788e+04       0        1\n",
       "stalk.color.above.ringg   -4.485e-09  3.733e+04       0        1\n",
       "stalk.color.above.ringn   -1.863e-10  2.893e+04       0        1\n",
       "stalk.color.above.ringo   -5.313e+01  3.251e+05       0        1\n",
       "stalk.color.above.ringp   -4.018e-09  2.897e+04       0        1\n",
       "stalk.color.above.ringw   -4.378e-09  3.307e+04       0        1\n",
       "stalk.color.above.ringy    1.594e+02  6.596e+05       0        1\n",
       "stalk.color.below.ringc           NA         NA      NA       NA\n",
       "stalk.color.below.ringe   -1.129e-08  6.800e+04       0        1\n",
       "stalk.color.below.ringg    5.159e-10  3.745e+04       0        1\n",
       "stalk.color.below.ringn    6.246e-10  2.903e+04       0        1\n",
       "stalk.color.below.ringo           NA         NA      NA       NA\n",
       "stalk.color.below.ringp    9.189e-10  2.922e+04       0        1\n",
       "stalk.color.below.ringw   -1.044e-10  3.329e+04       0        1\n",
       "stalk.color.below.ringy   -3.223e-07  1.455e+05       0        1\n",
       "veil.coloro                8.130e-09  6.029e+04       0        1\n",
       "veil.colorw                       NA         NA      NA       NA\n",
       "veil.colory                       NA         NA      NA       NA\n",
       "ring.numbero               1.328e+02  6.135e+05       0        1\n",
       "ring.numbert                      NA         NA      NA       NA\n",
       "ring.typef                 5.313e+01  3.047e+05       0        1\n",
       "ring.typel                        NA         NA      NA       NA\n",
       "ring.typen                        NA         NA      NA       NA\n",
       "ring.typep                 2.657e+01  1.293e+05       0        1\n",
       "printBrown                        NA         NA      NA       NA\n",
       "printBuff                 -2.500e-09  8.628e+04       0        1\n",
       "printChocolate            -2.537e-09  8.514e+04       0        1\n",
       "printGreen                -9.264e-10  8.230e+04       0        1\n",
       "printOrange                1.328e+02  4.111e+05       0        1\n",
       "printPurple               -2.422e-09  1.203e+05       0        1\n",
       "printWhite                 7.970e+01  3.944e+05       0        1\n",
       "printYellow               -2.824e-09  8.239e+04       0        1\n",
       "populationc               -2.576e-08  7.351e+04       0        1\n",
       "populationn                3.447e-09  4.304e+04       0        1\n",
       "populations                2.166e-10  3.067e+04       0        1\n",
       "populationv               -3.029e-08  4.141e+04       0        1\n",
       "populationy               -2.724e-08  4.300e+04       0        1\n",
       "habitatg                  -3.677e-10  2.548e+04       0        1\n",
       "habitatl                  -2.554e-08  2.380e+04       0        1\n",
       "habitatm                  -1.095e-09  4.356e+04       0        1\n",
       "habitatp                   1.461e-10  1.878e+04       0        1\n",
       "habitatu                   3.531e-07  4.360e+04       0        1\n",
       "habitatw                          NA         NA      NA       NA\n",
       "\n",
       "(Dispersion parameter for binomial family taken to be 1)\n",
       "\n",
       "    Null deviance: 7.8753e+03  on 5685  degrees of freedom\n",
       "Residual deviance: 3.2988e-08  on 5600  degrees of freedom\n",
       "AIC: 172\n",
       "\n",
       "Number of Fisher Scoring iterations: 25\n"
      ]
     },
     "metadata": {},
     "output_type": "display_data"
    }
   ],
   "source": [
    "summary(mylogit)"
   ]
  },
  {
   "cell_type": "code",
   "execution_count": 16,
   "id": "45c1ef44-6826-4a80-9861-38402c7aa6b0",
   "metadata": {},
   "outputs": [
    {
     "data": {
      "text/html": [
       "<table class=\"dataframe\">\n",
       "<caption>A data.frame: 10 × 2</caption>\n",
       "<thead>\n",
       "\t<tr><th></th><th scope=col>Actual</th><th scope=col>Pred_value</th></tr>\n",
       "\t<tr><th></th><th scope=col>&lt;fct&gt;</th><th scope=col>&lt;chr&gt;</th></tr>\n",
       "</thead>\n",
       "<tbody>\n",
       "\t<tr><th scope=row>5</th><td>Edible   </td><td>Edible   </td></tr>\n",
       "\t<tr><th scope=row>6</th><td>Edible   </td><td>Edible   </td></tr>\n",
       "\t<tr><th scope=row>12</th><td>Edible   </td><td>Edible   </td></tr>\n",
       "\t<tr><th scope=row>13</th><td>Edible   </td><td>Edible   </td></tr>\n",
       "\t<tr><th scope=row>17</th><td>Edible   </td><td>Edible   </td></tr>\n",
       "\t<tr><th scope=row>20</th><td>Poisonous</td><td>Poisonous</td></tr>\n",
       "\t<tr><th scope=row>21</th><td>Edible   </td><td>Edible   </td></tr>\n",
       "\t<tr><th scope=row>28</th><td>Edible   </td><td>Edible   </td></tr>\n",
       "\t<tr><th scope=row>29</th><td>Edible   </td><td>Edible   </td></tr>\n",
       "\t<tr><th scope=row>34</th><td>Edible   </td><td>Edible   </td></tr>\n",
       "</tbody>\n",
       "</table>\n"
      ],
      "text/latex": [
       "A data.frame: 10 × 2\n",
       "\\begin{tabular}{r|ll}\n",
       "  & Actual & Pred\\_value\\\\\n",
       "  & <fct> & <chr>\\\\\n",
       "\\hline\n",
       "\t5 & Edible    & Edible   \\\\\n",
       "\t6 & Edible    & Edible   \\\\\n",
       "\t12 & Edible    & Edible   \\\\\n",
       "\t13 & Edible    & Edible   \\\\\n",
       "\t17 & Edible    & Edible   \\\\\n",
       "\t20 & Poisonous & Poisonous\\\\\n",
       "\t21 & Edible    & Edible   \\\\\n",
       "\t28 & Edible    & Edible   \\\\\n",
       "\t29 & Edible    & Edible   \\\\\n",
       "\t34 & Edible    & Edible   \\\\\n",
       "\\end{tabular}\n"
      ],
      "text/markdown": [
       "\n",
       "A data.frame: 10 × 2\n",
       "\n",
       "| <!--/--> | Actual &lt;fct&gt; | Pred_value &lt;chr&gt; |\n",
       "|---|---|---|\n",
       "| 5 | Edible    | Edible    |\n",
       "| 6 | Edible    | Edible    |\n",
       "| 12 | Edible    | Edible    |\n",
       "| 13 | Edible    | Edible    |\n",
       "| 17 | Edible    | Edible    |\n",
       "| 20 | Poisonous | Poisonous |\n",
       "| 21 | Edible    | Edible    |\n",
       "| 28 | Edible    | Edible    |\n",
       "| 29 | Edible    | Edible    |\n",
       "| 34 | Edible    | Edible    |\n",
       "\n"
      ],
      "text/plain": [
       "   Actual    Pred_value\n",
       "5  Edible    Edible    \n",
       "6  Edible    Edible    \n",
       "12 Edible    Edible    \n",
       "13 Edible    Edible    \n",
       "17 Edible    Edible    \n",
       "20 Poisonous Poisonous \n",
       "21 Edible    Edible    \n",
       "28 Edible    Edible    \n",
       "29 Edible    Edible    \n",
       "34 Edible    Edible    "
      ]
     },
     "metadata": {},
     "output_type": "display_data"
    }
   ],
   "source": [
    "# Dự đoán y_pred từ test => so sánh với y_test.\n",
    "pred <- predict(mylogit,\n",
    "                newdata = testData,\n",
    "                type = 'response')\n",
    "pred_value <- ifelse(pred > 0.5, 'Poisonous', 'Edible')\n",
    "result <- data.frame(Actual = testData$Class[0:10], Pred_value = pred_value[0:10])\n",
    "result"
   ]
  },
  {
   "cell_type": "code",
   "execution_count": 17,
   "id": "57472f81-4763-4852-8813-ec60e91a832a",
   "metadata": {},
   "outputs": [
    {
     "name": "stdout",
     "output_type": "stream",
     "text": [
      "[1] \"Accuracy: 1\"\n"
     ]
    }
   ],
   "source": [
    "accuracy <- table(pred_value, testData$Class)\n",
    "accuracy <- sum(diag(accuracy))/sum(accuracy)\n",
    "print(paste('Accuracy:', accuracy))"
   ]
  },
  {
   "cell_type": "markdown",
   "id": "375bef55-aa33-4f33-91d9-c34dcdb87f50",
   "metadata": {},
   "source": [
    "-Nhận xét: Model đạt 100% accuracy"
   ]
  },
  {
   "cell_type": "markdown",
   "id": "7374ee25-1e40-4891-bea0-6321563400fd",
   "metadata": {},
   "source": [
    "### Decision Tree"
   ]
  },
  {
   "cell_type": "code",
   "execution_count": 18,
   "id": "c8be1550-0603-497d-9c8a-e93ff63d143c",
   "metadata": {},
   "outputs": [],
   "source": [
    "library(rpart)"
   ]
  },
  {
   "cell_type": "code",
   "execution_count": 19,
   "id": "51300240-cfaf-4367-b7e7-a30338e17870",
   "metadata": {},
   "outputs": [
    {
     "data": {
      "text/plain": [
       "n= 5686 \n",
       "\n",
       "node), split, n, loss, yval, (yprob)\n",
       "      * denotes terminal node\n",
       "\n",
       "1) root 5686 2742 Edible (0.51776293 0.48223707)  \n",
       "  2) odor=Almonds,Fishy,Musty 3026   82 Edible (0.97290152 0.02709848)  \n",
       "    4) print=Black,Brown,Buff,Chocolate,Green,Purple,White,Yellow 2981   37 Edible (0.98758806 0.01241194) *\n",
       "    5) print=Orange 45    0 Poisonous (0.00000000 1.00000000) *\n",
       "  3) odor=Anise,Creosote,Foul,None,Pungent,Spicy 2660    0 Poisonous (0.00000000 1.00000000) *"
      ]
     },
     "metadata": {},
     "output_type": "display_data"
    }
   ],
   "source": [
    "data.tree <- rpart(Class ~., data = trainingData,\n",
    "                   method = 'class')\n",
    "data.tree"
   ]
  },
  {
   "cell_type": "code",
   "execution_count": 20,
   "id": "6e4e9e73-7f0a-48f0-8a4a-036684328075",
   "metadata": {},
   "outputs": [
    {
     "name": "stdout",
     "output_type": "stream",
     "text": [
      "Call:\n",
      "rpart(formula = Class ~ ., data = trainingData, method = \"class\")\n",
      "  n= 5686 \n",
      "\n",
      "          CP nsplit  rel error     xerror        xstd\n",
      "1 0.97009482      0 1.00000000 1.00000000 0.013741424\n",
      "2 0.01641138      1 0.02990518 0.02990518 0.003278575\n",
      "3 0.01000000      2 0.01349380 0.01349380 0.002211138\n",
      "\n",
      "Variable importance\n",
      "                    odor                    print               gill.color \n",
      "                      26                       19                       16 \n",
      "stalk.surface.above.ring stalk.surface.below.ring                ring.type \n",
      "                      14                       13                       13 \n",
      "\n",
      "Node number 1: 5686 observations,    complexity param=0.9700948\n",
      "  predicted class=Edible     expected loss=0.4822371  P(node) =1\n",
      "    class counts:  2944  2742\n",
      "   probabilities: 0.518 0.482 \n",
      "  left son=2 (3026 obs) right son=3 (2660 obs)\n",
      "  Primary splits:\n",
      "      odor                     splits as  LRRLRLRRR,    improve=2679.8560, (0 missing)\n",
      "      print                    splits as  LRLLLRLRL,    improve=1512.5990, (0 missing)\n",
      "      gill.color               splits as  RLRRLLLLRLLL, improve=1056.5270, (0 missing)\n",
      "      stalk.surface.above.ring splits as  LRLL,         improve= 986.7728, (0 missing)\n",
      "      stalk.surface.below.ring splits as  LRLL,         improve= 928.0356, (0 missing)\n",
      "  Surrogate splits:\n",
      "      print                    splits as  LRLLLLLRL,    agree=0.858, adj=0.697, (0 split)\n",
      "      gill.color               splits as  RLRRLLLLLLLL, agree=0.810, adj=0.593, (0 split)\n",
      "      stalk.surface.above.ring splits as  LRLL,         agree=0.780, adj=0.530, (0 split)\n",
      "      stalk.surface.below.ring splits as  LRLL,         agree=0.779, adj=0.528, (0 split)\n",
      "      ring.type                splits as  RLRRL,        agree=0.774, adj=0.518, (0 split)\n",
      "\n",
      "Node number 2: 3026 observations,    complexity param=0.01641138\n",
      "  predicted class=Edible     expected loss=0.02709848  P(node) =0.5321843\n",
      "    class counts:  2944    82\n",
      "   probabilities: 0.973 0.027 \n",
      "  left son=4 (2981 obs) right son=5 (45 obs)\n",
      "  Primary splits:\n",
      "      print                    splits as  LLLLLRLLL,    improve=86.47433, (0 missing)\n",
      "      gill.color               splits as  -LLLLLLLRLLL, improve=36.19569, (0 missing)\n",
      "      stalk.color.below.ring   splits as  --LLLLLLR,    improve=32.36409, (0 missing)\n",
      "      cap.color                splits as  RLLLLRLLLL,   improve=13.80794, (0 missing)\n",
      "      stalk.surface.above.ring splits as  LRLR,         improve=10.95902, (0 missing)\n",
      "  Surrogate splits:\n",
      "      gill.color splits as  -LLLLLLLRLLL, agree=0.991, adj=0.422, (0 split)\n",
      "\n",
      "Node number 3: 2660 observations\n",
      "  predicted class=Poisonous  expected loss=0  P(node) =0.4678157\n",
      "    class counts:     0  2660\n",
      "   probabilities: 0.000 1.000 \n",
      "\n",
      "Node number 4: 2981 observations\n",
      "  predicted class=Edible     expected loss=0.01241194  P(node) =0.5242701\n",
      "    class counts:  2944    37\n",
      "   probabilities: 0.988 0.012 \n",
      "\n",
      "Node number 5: 45 observations\n",
      "  predicted class=Poisonous  expected loss=0  P(node) =0.007914175\n",
      "    class counts:     0    45\n",
      "   probabilities: 0.000 1.000 \n",
      "\n"
     ]
    }
   ],
   "source": [
    "summary(data.tree)"
   ]
  },
  {
   "cell_type": "code",
   "execution_count": 21,
   "id": "c1faedeb-79b5-49ee-bab3-e670411656a0",
   "metadata": {},
   "outputs": [
    {
     "data": {
      "image/png": "[encoded data removed]",
      "text/plain": [
       "plot without title"
      ]
     },
     "metadata": {
      "image/png": {
       "height": 420,
       "width": 420
      }
     },
     "output_type": "display_data"
    }
   ],
   "source": [
    "library(rpart.plot)\n",
    "prp(data.tree, type = 2, extra = 'auto', nn = TRUE, branch = 1, varlen = 0, yesno = 2)"
   ]
  },
  {
   "cell_type": "code",
   "execution_count": 22,
   "id": "a7745975-88cf-4021-9fa0-8bc15d043677",
   "metadata": {},
   "outputs": [],
   "source": [
    "pred_test <- predict(data.tree, testData, type = 'class')"
   ]
  },
  {
   "cell_type": "code",
   "execution_count": 23,
   "id": "43e1162a-d64e-415a-83c6-5a314d08c582",
   "metadata": {},
   "outputs": [
    {
     "name": "stdout",
     "output_type": "stream",
     "text": [
      "[1] \"Predict vs Actual:\"\n"
     ]
    },
    {
     "data": {
      "text/html": [
       "<table class=\"dataframe\">\n",
       "<caption>A data.frame: 10 × 2</caption>\n",
       "<thead>\n",
       "\t<tr><th></th><th scope=col>Predict</th><th scope=col>Actual</th></tr>\n",
       "\t<tr><th></th><th scope=col>&lt;fct&gt;</th><th scope=col>&lt;fct&gt;</th></tr>\n",
       "</thead>\n",
       "<tbody>\n",
       "\t<tr><th scope=row>5</th><td>Edible   </td><td>Edible   </td></tr>\n",
       "\t<tr><th scope=row>6</th><td>Edible   </td><td>Edible   </td></tr>\n",
       "\t<tr><th scope=row>12</th><td>Edible   </td><td>Edible   </td></tr>\n",
       "\t<tr><th scope=row>13</th><td>Edible   </td><td>Edible   </td></tr>\n",
       "\t<tr><th scope=row>17</th><td>Edible   </td><td>Edible   </td></tr>\n",
       "\t<tr><th scope=row>20</th><td>Poisonous</td><td>Poisonous</td></tr>\n",
       "\t<tr><th scope=row>21</th><td>Edible   </td><td>Edible   </td></tr>\n",
       "\t<tr><th scope=row>28</th><td>Edible   </td><td>Edible   </td></tr>\n",
       "\t<tr><th scope=row>29</th><td>Edible   </td><td>Edible   </td></tr>\n",
       "\t<tr><th scope=row>34</th><td>Edible   </td><td>Edible   </td></tr>\n",
       "</tbody>\n",
       "</table>\n"
      ],
      "text/latex": [
       "A data.frame: 10 × 2\n",
       "\\begin{tabular}{r|ll}\n",
       "  & Predict & Actual\\\\\n",
       "  & <fct> & <fct>\\\\\n",
       "\\hline\n",
       "\t5 & Edible    & Edible   \\\\\n",
       "\t6 & Edible    & Edible   \\\\\n",
       "\t12 & Edible    & Edible   \\\\\n",
       "\t13 & Edible    & Edible   \\\\\n",
       "\t17 & Edible    & Edible   \\\\\n",
       "\t20 & Poisonous & Poisonous\\\\\n",
       "\t21 & Edible    & Edible   \\\\\n",
       "\t28 & Edible    & Edible   \\\\\n",
       "\t29 & Edible    & Edible   \\\\\n",
       "\t34 & Edible    & Edible   \\\\\n",
       "\\end{tabular}\n"
      ],
      "text/markdown": [
       "\n",
       "A data.frame: 10 × 2\n",
       "\n",
       "| <!--/--> | Predict &lt;fct&gt; | Actual &lt;fct&gt; |\n",
       "|---|---|---|\n",
       "| 5 | Edible    | Edible    |\n",
       "| 6 | Edible    | Edible    |\n",
       "| 12 | Edible    | Edible    |\n",
       "| 13 | Edible    | Edible    |\n",
       "| 17 | Edible    | Edible    |\n",
       "| 20 | Poisonous | Poisonous |\n",
       "| 21 | Edible    | Edible    |\n",
       "| 28 | Edible    | Edible    |\n",
       "| 29 | Edible    | Edible    |\n",
       "| 34 | Edible    | Edible    |\n",
       "\n"
      ],
      "text/plain": [
       "   Predict   Actual   \n",
       "5  Edible    Edible   \n",
       "6  Edible    Edible   \n",
       "12 Edible    Edible   \n",
       "13 Edible    Edible   \n",
       "17 Edible    Edible   \n",
       "20 Poisonous Poisonous\n",
       "21 Edible    Edible   \n",
       "28 Edible    Edible   \n",
       "29 Edible    Edible   \n",
       "34 Edible    Edible   "
      ]
     },
     "metadata": {},
     "output_type": "display_data"
    }
   ],
   "source": [
    "print('Predict vs Actual:')\n",
    "result1 <- data.frame(Predict = pred_test[0:10], Actual = testData$Class[0:10])\n",
    "result1"
   ]
  },
  {
   "cell_type": "code",
   "execution_count": 24,
   "id": "74ce2aab-46e7-4523-87b7-887b4aaf5ff8",
   "metadata": {},
   "outputs": [
    {
     "name": "stdout",
     "output_type": "stream",
     "text": [
      "[1] \"Accuracy: 0.995488105004102\"\n"
     ]
    }
   ],
   "source": [
    "# Dự đoán y_pred từ test => so sánh với y_test.\n",
    "accuracy1 <- mean(pred_test != testData$Class)\n",
    "print(paste('Accuracy:', 1 - accuracy1))"
   ]
  },
  {
   "cell_type": "markdown",
   "id": "a00666b1-782a-4c88-a4ac-817a6c15542d",
   "metadata": {},
   "source": [
    "- Nhận xét: Model đạt 99% accuracy"
   ]
  },
  {
   "cell_type": "markdown",
   "id": "bf24560e-e1d5-467c-a23e-e6a330ec4114",
   "metadata": {},
   "source": [
    "##### Comment: Trong 2 thuật toán, thuật toán Decision Tree phù hợp hơn vì thuật toán Logistic không predict được khi có cột trong dữ liệu chỉ có 1 level factor"
   ]
  },
  {
   "cell_type": "code",
   "execution_count": null,
   "id": "01b759e0-09d4-414d-be97-d0e818e7e47d",
   "metadata": {},
   "outputs": [],
   "source": []
  }
 ],
 "metadata": {
  "kernelspec": {
   "display_name": "R",
   "language": "R",
   "name": "ir"
  },
  "language_info": {
   "codemirror_mode": "r",
   "file_extension": ".r",
   "mimetype": "text/x-r-source",
   "name": "R",
   "pygments_lexer": "r",
   "version": "4.2.2"
  }
 },
 "nbformat": 4,
 "nbformat_minor": 5
}
